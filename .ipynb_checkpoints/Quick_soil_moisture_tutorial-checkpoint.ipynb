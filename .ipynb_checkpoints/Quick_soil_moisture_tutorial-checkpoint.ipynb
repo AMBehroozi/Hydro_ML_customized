{
 "cells": [
  {
   "cell_type": "markdown",
   "metadata": {
    "id": "Vd1ZirV733Bn"
   },
   "source": [
    "# MHPI hydroDL Tutorial\n",
    "\n",
    "This deep learning code can be used to model hydrologic systems from soil moisture to streamflow or from projection to forecast. If this work is useful to you, please cite\n",
    "Liu, Jiangtao, David Hughes, Farshid Rahmani, Kathryn Lawson and Chaopeng Shen,\n",
    "\n",
    "*   Evaluating a Global Soil Moisture dataset from a Multitask Model (GSM3 v1.0) for current and emerging threats to crops, Geoscientific Model Development (2023), doi: 10.5194/gmd-16-1553-2023 &\n",
    "*   Fang, K., CP. Shen, D. Kifer and X. Yang, Prolongation of SMAP to Spatio-temporally Seamless Coverage of Continental US Using a Deep Learning Neural Network, Geophysical Research Letters, doi: 10.1002/2017GL075619, preprint accessible at: arXiv:1707.06611 (2017)\n",
    "\n",
    "--- Chaopeng Shen, Jiangtao Liu, Yalan Song & Kuai Fang\n",
    "\n",
    "[![PyPI](https://img.shields.io/badge/pypi-version%200.1-blue)](https://pypi.org/project/hydroDL/0.1.0/)  [![DOI](https://zenodo.org/badge/DOI/10.5281/zenodo.3993880.svg)](https://doi.org/10.5281/zenodo.3993880) [![CodeStyle](https://img.shields.io/badge/code%20style-Black-black)]()\n",
    "\n"
   ]
  },
  {
   "cell_type": "markdown",
   "metadata": {
    "id": "fQs9j0Xp4NsW"
   },
   "source": [
    "Welcome to our hydroDL tutorial at The Pennsylvania State University! The following notebook is designed to provide a quick start to our project and get you ready to write your own neural networks."
   ]
  },
  {
   "cell_type": "markdown",
   "metadata": {
    "id": "DZ7Sl_VXsP9E"
   },
   "source": [
    "### Configure Model"
   ]
  },
  {
   "cell_type": "code",
   "execution_count": 1,
   "metadata": {
    "colab": {
     "base_uri": "https://localhost:8080/"
    },
    "id": "Lhc4IkidmKy-",
    "outputId": "0a7fe21b-8967-4b4c-a306-8b5f56ead169"
   },
   "outputs": [
    {
     "name": "stdout",
     "output_type": "stream",
     "text": [
      "loading package hydroDL\n"
     ]
    }
   ],
   "source": [
    "# the model formulation is y = LSTM(x, c) where x is\n",
    "import os\n",
    "import torch\n",
    "import numpy as np\n",
    "\n",
    "import sys\n",
    "# sys.path.append('..')\n",
    "\n",
    "#from hydroDL.model.train import trainModel\n",
    "from hydroDL.model.test import testModel\n",
    "from hydroDL.post.stat import statError as cal_metric\n",
    "from hydroDL.data.load_csv import LoadCSV\n",
    "from hydroDL.utils.norm import re_folder, trans_norm\n",
    "\n",
    "\n",
    "# set configuration\n",
    "output_s = \"./output/quick_start/\"  # output path\n",
    "csv_path_s = \"./example/demo_data/\"  # demo data path\n",
    "all_date_list = [\"2015-04-01\", \"2017-03-31\"]  # demo data time period\n",
    "train_date_list = [\"2015-04-01\", \"2016-03-31\"]  # training period\n",
    "# time series variables list\n",
    "var_time_series = [\"VGRD_10_FORA\", \"DLWRF_FORA\", \"UGRD_10_FORA\", \"DSWRF_FORA\", \"TMP_2_FORA\", \"SPFH_2_FORA\", \"APCP_FORA\", ]\n",
    "# constant variables list\n",
    "var_constant = [\"flag_extraOrd\", \"Clay\", \"Bulk\", \"Sand\", \"flag_roughness\", \"flag_landcover\", \"flag_vegDense\", \"Silt\", \"NDVI\",\n",
    "         \"flag_albedo\", \"flag_waterbody\", \"Capa\", ]\n",
    "# target variable list\n",
    "target = [\"SMAP_AM\"]\n",
    "\n",
    "# generate output folder\n",
    "re_folder(output_s)\n",
    "\n",
    "# load your datasets\n",
    "\"\"\"\n",
    "You can change it with your data. The data structure is as follows:\n",
    "x_train (forcing data, e.g. precipitation, temperature ...): [pixels, time, features]\n",
    "c_train (constant data, e.g. soil properties, land cover ...): [pixels, features]\n",
    "target (e.g. soil moisture, streamflow ...): [pixels, time, 1]\n",
    "\n",
    "Data type: numpy.float\n",
    "We have normalized the raw data.\n",
    "example:\n",
    "    If the data size is \"[pixels, time, features]\" or \"[pixels, features]\", the statistics for 10% to 90% of the data are calculated as follows:\n",
    "\n",
    "    from hydroDL.utils.norm import cal_statistics\n",
    "    stat_list = cal_statistics(data, re_extreme=True, percent=10)\n",
    "    [left_p10, left_p90, mean, std] = stat_list\n",
    "\"\"\"\n",
    "train_csv = LoadCSV(csv_path_s, train_date_list, all_date_list)\n",
    "x_train = train_csv.load_time_series(var_time_series)  # data size: [pixels, time, features]\n",
    "c_train = train_csv.load_constant(var_constant, convert_time_series=False)  # [pixels, features]\n",
    "y_train = train_csv.load_time_series(target, remove_nan=False)  # [pixels, time, 1]\n",
    "\n",
    "# validation the result\n",
    "# load validation datasets\n",
    "val_date_list = [\"2016-04-01\", \"2017-03-31\"]  # validation period\n",
    "# load your data. same as training data\n",
    "val_csv = LoadCSV(csv_path_s, val_date_list, all_date_list)\n",
    "x_val = val_csv.load_time_series(var_time_series)\n",
    "c_val = val_csv.load_constant(var_constant, convert_time_series=False)\n",
    "y_val = val_csv.load_time_series(target, remove_nan=False)\n"
   ]
  },
  {
   "cell_type": "code",
   "execution_count": 2,
   "metadata": {
    "colab": {
     "base_uri": "https://localhost:8080/"
    },
    "id": "VB3jAw4nSOoJ",
    "outputId": "88524db5-f083-416b-e857-22af9c2be67d"
   },
   "outputs": [
    {
     "name": "stdout",
     "output_type": "stream",
     "text": [
      "<class 'numpy.ndarray'>\n",
      "(412, 366, 7) (412, 12) (412, 366, 1)\n",
      "(412, 365, 7) (412, 12) (412, 365, 1)\n"
     ]
    }
   ],
   "source": [
    "print(type(x_train))\n",
    "print(x_train.shape, c_train.shape, y_train.shape)\n",
    "print(x_val.shape, c_val.shape, y_val.shape)"
   ]
  },
  {
   "cell_type": "code",
   "execution_count": 3,
   "metadata": {
    "id": "2hbYbTLjS2Vn"
   },
   "outputs": [],
   "source": [
    "'''\n",
    "load_data is the Dataloader function for the training function. These functions are typically embedded inside the hydroDL package,\n",
    "but they are pulled out here so that newcomers can understand them without packaging details.\n",
    "They help to build the minibatch and copy to cuda() device\n",
    "Here we extract a minibatch from inputs[\"x\", \"c\", \"y\"] and wrap the extracted data to data[\"x\", \"yTrain\"]\n",
    "'''\n",
    "from hydroDL.master.master import loadModel\n",
    "from hydroDL.model.crit import RmseLoss\n",
    "from hydroDL.model.rnn import CudnnLstmModel\n",
    "from hydroDL.model.rnn import CpuLstmModel\n",
    "from hydroDL.model.crit import RmseLoss, NSELossBatch,NSESqrtLossBatch\n",
    "from hydroDL.model.settings import make_train_settings\n",
    "import pandas as pd\n",
    "from time import sleep\n",
    "from tqdm import trange\n",
    "import hydroDL.core.logger as logger\n",
    "from hydroDL.model import crit\n",
    "import time\n",
    "log = logger.get_logger(\"model.train_.train\")\n",
    "\n",
    "def select_subset(\n",
    "    x, iGrid, iT, rho, c=None, tupleOut=False, LCopt=False, bufftime=0, **kwargs\n",
    "):\n",
    "    \"\"\"\n",
    "    Selects a subset based on the grid given\n",
    "    :param x:\n",
    "    :param iGrid:\n",
    "    :param iT:\n",
    "    :param rho:\n",
    "    :param c:\n",
    "    :param tupleOut:\n",
    "    :param LCopt:\n",
    "    :param bufftime:\n",
    "    :return:\n",
    "    \"\"\"\n",
    "    nx = x.shape[-1]\n",
    "    nt = x.shape[1]\n",
    "    if x.shape[0] == len(iGrid):  # hack\n",
    "        iGrid = np.arange(0, len(iGrid))  # hack\n",
    "    if nt <= rho:\n",
    "        iT.fill(0)\n",
    "    batchSize = iGrid.shape[0]\n",
    "    if iT is not None:\n",
    "        # batchSize = iGrid.shape[0]\n",
    "        xTensor = torch.zeros([rho + bufftime, batchSize, nx], requires_grad=False)\n",
    "        for k in range(batchSize):\n",
    "            temp = x[\n",
    "                iGrid[k] : iGrid[k] + 1, np.arange(iT[k] - bufftime, iT[k] + rho), :\n",
    "            ]\n",
    "            xTensor[:, k : k + 1, :] = torch.from_numpy(np.swapaxes(temp, 1, 0))\n",
    "    else:\n",
    "        if LCopt is True:\n",
    "            # used for local calibration kernel: FDC, SMAP...\n",
    "            if len(x.shape) == 2:\n",
    "                # Used for local calibration kernel as FDC\n",
    "                # x = Ngrid * Ntime\n",
    "                xTensor = torch.from_numpy(x[iGrid, :]).float()\n",
    "            elif len(x.shape) == 3:\n",
    "                # used for LC-SMAP x=Ngrid*Ntime*Nvar\n",
    "                xTensor = torch.from_numpy(np.swapaxes(x[iGrid, :, :], 1, 2)).float()\n",
    "        else:\n",
    "            # Used for rho equal to the whole length of time series\n",
    "            xTensor = torch.from_numpy(np.swapaxes(x[iGrid, :, :], 1, 0)).float()\n",
    "            rho = xTensor.shape[0]\n",
    "    if c is not None:\n",
    "        nc = c.shape[-1]\n",
    "        temp = np.repeat(\n",
    "            np.reshape(c[iGrid, :], [batchSize, 1, nc]), rho + bufftime, axis=1\n",
    "        )\n",
    "        cTensor = torch.from_numpy(np.swapaxes(temp, 1, 0)).float()\n",
    "        if tupleOut:\n",
    "            if torch.cuda.is_available():\n",
    "                xTensor = xTensor.cuda()\n",
    "                cTensor = cTensor.cuda()\n",
    "            out = (xTensor, cTensor)\n",
    "        else:\n",
    "            out = torch.cat((xTensor, cTensor), 2)\n",
    "    else:\n",
    "        out = xTensor\n",
    "    if torch.cuda.is_available() and type(out) is not tuple:\n",
    "        out = out.cuda()\n",
    "    return out\n",
    "\n",
    "\n",
    "def random_index(ngrid, nt, dimSubset, bufftime=0):\n",
    "    \"\"\"\n",
    "    Finds a random place to start inside of the grids\n",
    "    :param: ngrid: the number of grids\n",
    "    :param: nt: the number of tiles\n",
    "    :param: dimSubset: the dimensions of the subset\n",
    "    :param: bufftime: a buffer\n",
    "    :returns: the index of the grid and the index of the tile\n",
    "    \"\"\"\n",
    "    batchSize, rho = dimSubset\n",
    "    iGrid = np.random.randint(0, ngrid, [batchSize])\n",
    "    iT = np.random.randint(0 + bufftime, nt - rho, [batchSize])\n",
    "    return iGrid, iT\n",
    "\n",
    "def save_model(outFolder, model, epoch, modelName=\"model\"):\n",
    "    modelFile = os.path.join(outFolder, modelName + \"_Ep\" + str(epoch) + \".pt\")\n",
    "    torch.save(model, modelFile)\n",
    "\n",
    "\n",
    "def load_model(outFolder, epoch, modelName=\"model\"):\n",
    "    modelFile = os.path.join(outFolder, modelName + \"_Ep\" + str(epoch) + \".pt\")\n",
    "    model = torch.load(modelFile)\n",
    "    return model\n",
    "\n",
    "def load_data(inputs, settings):\n",
    "    \"\"\"\n",
    "\n",
    "    :param inputs:\n",
    "    :param settings:\n",
    "    :return:\n",
    "    \"\"\"\n",
    "    data = {}\n",
    "    iGrid, iT = random_index(\n",
    "        settings[\"ngrid\"], settings[\"nt\"], [settings[\"batchSize\"], settings[\"rho\"]], bufftime=settings['bufftime']\n",
    "    )\n",
    "    data[\"x\"] = select_subset(inputs[\"x\"], iGrid, iT, settings[\"rho\"], c=inputs[\"c\"], bufftime=settings['bufftime'])\n",
    "    data[\"yTrain\"] = select_subset(inputs[\"y\"], iGrid, iT, settings[\"rho\"])\n",
    "    return data, iGrid\n",
    "\n",
    "\n",
    "import matplotlib.pyplot as plt\n",
    "from IPython.display import display, clear_output\n",
    "\n",
    "def trainModel(\n",
    "    model,\n",
    "    x,\n",
    "    y,\n",
    "    c,\n",
    "    lossFun,\n",
    "    nEpoch=500,\n",
    "    load_data=load_data,\n",
    "    miniBatch=[100, 30],\n",
    "    saveEpoch=100,\n",
    "    saveFolder=None,\n",
    "    mode=\"seq2seq\",\n",
    "    bufftime=0,\n",
    "):\n",
    "#     optim = torch.optim.Adadelta(model.parameters())\n",
    "    learning_rate = 0.001\n",
    "    optim = torch.optim.Adam(model.parameters(), lr=learning_rate)\n",
    "    if saveFolder is not None:\n",
    "        runFile = os.path.join(saveFolder, \"run.csv\")\n",
    "        rf = open(runFile, \"w+\")\n",
    "    inputs, settings = make_train_settings(model, x, y, c, nEpoch, miniBatch, bufftime,)\n",
    "    # wrap data into a dict (inputs).\n",
    "\n",
    "    if torch.cuda.is_available():\n",
    "        lossFun = lossFun.cuda()\n",
    "\n",
    "    losses = []\n",
    "    plt.figure()\n",
    "\n",
    "    with trange(1, nEpoch + 1) as pbar:\n",
    "        for iEpoch in pbar:\n",
    "            pbar.set_description(f\"Training {model.name}\")\n",
    "            lossEp = 0\n",
    "            t0 = time.time()\n",
    "            for iIter in range(0, settings[\"nIterEp\"]):\n",
    "                model.zero_grad()\n",
    "                dataDict, iGrid = load_data(inputs, settings)\n",
    "                x = dataDict[\"x\"]\n",
    "                yp = model(x)\n",
    "\n",
    "                if type(lossFun) in [NSELossBatch, NSESqrtLossBatch]:\n",
    "                    loss = lossFun(yp[bufftime:, :, :], dataDict[\"yTrain\"], igrid=iGrid)\n",
    "                else:\n",
    "                    loss = lossFun(yp[bufftime:, :, :], dataDict[\"yTrain\"])\n",
    "\n",
    "                loss.backward()\n",
    "                optim.step()\n",
    "                lossEp += loss.item()\n",
    "\n",
    "            lossEp /= settings[\"nIterEp\"]\n",
    "            losses.append(lossEp)\n",
    "            loss_str = \"Epoch {} Loss {:.3f} time {:.2f}\".format(\n",
    "                iEpoch, lossEp, time.time() - t0\n",
    "            )\n",
    "            print(loss_str)\n",
    "            log.debug(loss_str)\n",
    "            pbar.set_postfix(loss=lossEp)\n",
    "\n",
    "            # Live plot update\n",
    "            clear_output(wait=True)\n",
    "            plt.plot(losses, label='Training Loss')\n",
    "            plt.xlabel('Epoch')\n",
    "            plt.ylabel('Loss')\n",
    "            plt.title('Training Loss Over Time')\n",
    "            # plt.legend()\n",
    "            display(plt.gcf())\n",
    "            sleep(0.1)\n",
    "\n",
    "            if saveFolder is not None:\n",
    "                rf.write(loss_str + \"\\n\")\n",
    "                if iEpoch % saveEpoch == 0:\n",
    "                    # save model\n",
    "                    modelFile = os.path.join(\n",
    "                        saveFolder, \"model_Ep\" + str(iEpoch) + \".pt\"\n",
    "                    )\n",
    "                    torch.save(model, modelFile)\n",
    "    if saveFolder is not None:\n",
    "        rf.close()\n",
    "\n",
    "    plt.close()  # Close the dynamic plot\n",
    "    return model\n",
    "\n",
    "\n",
    "# define model and loss function\n",
    "loss_fn = RmseLoss()  # loss function\n",
    "# select model: GPU or CPU\n",
    "device = torch.cuda.current_device() if torch.cuda.is_available() else torch.device(\"cpu\" )\n",
    "\n",
    "# hyperparameter\n",
    "EPOCH = 100 # go to 300 if you have the time to wait.\n",
    "BATCH_SIZE = 50\n",
    "RHO = 30\n",
    "HIDDEN_SIZE = 256\n",
    "nx = x_train.shape[-1] + c_train.shape[-1]  # update nx, nx = nx + nc\n",
    "ny = y_train.shape[-1]\n",
    "nmodes = 12\n",
    "# if torch.cuda.is_available():\n",
    "#     model = CudnnLstmModel(nx=nx, ny=ny, hiddenSize=HIDDEN_SIZE, nmodes=nmodes).to(device)\n",
    "# else:\n",
    "#     model = CpuLstmModel(nx=nx, ny=ny, hiddenSize=HIDDEN_SIZE).to(device)\n",
    "# If you want to read LSTM internal code\n",
    "# The CpuLstmModel eventually calls LSTMcell_tied in hydroDLpack/hydroDL/model/rnn/CpuLstmModel, which is the most interpretable version\n",
    "# The CudnnLstmModel version calls hydroDLpack/hydroDL/model/rnn/CudnnLstm which wraps the cudnn library and is super fast"
   ]
  },
  {
   "cell_type": "code",
   "execution_count": 5,
   "metadata": {},
   "outputs": [],
   "source": [
    "import torch\n",
    "import torch.nn as nn\n",
    "import torch.nn.functional as F\n",
    "\n",
    "class SpectralConv1d(nn.Module):\n",
    "    def __init__(self, in_channels, out_channels, modes):\n",
    "        super(SpectralConv1d, self).__init__()\n",
    "        \"\"\"\n",
    "        1D Fourier layer. It performs FFT, a linear transform, and Inverse FFT.\n",
    "        \"\"\"\n",
    "        self.in_channels = in_channels\n",
    "        self.out_channels = out_channels\n",
    "        self.modes = modes  # Number of Fourier modes to multiply, at most floor(N/2) + 1\n",
    "\n",
    "        self.scale = (1 / (in_channels * out_channels))\n",
    "        self.weights = nn.Parameter(self.scale * torch.rand(in_channels, out_channels, self.modes, dtype=torch.cfloat))\n",
    "\n",
    "    # Complex multiplication\n",
    "    def compl_mul1d(self, input, weights):\n",
    "        # (batch, in_channel, t), (in_channel, out_channel, t) -> (batch, out_channel, t)\n",
    "        return torch.einsum(\"bit,iot->bot\", input, weights)\n",
    "\n",
    "    def forward(self, x):\n",
    "        batchsize = x.shape[0]\n",
    "\n",
    "        # Compute Fourier coefficients up to a factor of e^(- something constant)\n",
    "        x_ft = torch.fft.rfft(x)\n",
    "\n",
    "        # Multiply relevant Fourier modes\n",
    "        out_ft = torch.zeros(batchsize, self.out_channels, x.size(-1)//2 + 1, dtype=torch.cfloat, device=x.device)\n",
    "        out_ft[:, :, :self.modes] = self.compl_mul1d(x_ft[:, :, :self.modes], self.weights)\n",
    "\n",
    "        # Return to physical space\n",
    "        x = torch.fft.irfft(out_ft, n=x.size(-1))\n",
    "        return x\n",
    "\n",
    "class FNO1d(nn.Module):\n",
    "    def __init__(self, modes, width, T_in, T_out, state_size):\n",
    "        super(FNO1d, self).__init__()\n",
    "        self.name = 'FNO1d'\n",
    "        self.modes = modes\n",
    "        self.width = width\n",
    "        self.T_in = T_in\n",
    "        self.T_out = T_out\n",
    "        self.state_size = state_size\n",
    "        self.padding = 2\n",
    "\n",
    "        # Initial lifting layer\n",
    "        self.fc0 = nn.Linear(T_in, self.width)\n",
    "\n",
    "        # Fourier layers\n",
    "        self.conv0 = SpectralConv1d(self.width, self.width, self.modes)\n",
    "        self.conv1 = SpectralConv1d(self.width, self.width, self.modes)\n",
    "        self.conv2 = SpectralConv1d(self.width, self.width, self.modes)\n",
    "        self.conv3 = SpectralConv1d(self.width, self.width, self.modes)\n",
    "        self.conv4 = SpectralConv1d(self.width, self.width, self.modes)\n",
    "        self.conv5 = SpectralConv1d(self.width, self.width, self.modes)\n",
    "        self.conv6 = SpectralConv1d(self.width, self.width, self.modes)\n",
    "        self.conv7 = SpectralConv1d(self.width, self.width, self.modes)\n",
    "        self.conv8 = SpectralConv1d(self.width, self.width, self.modes)\n",
    "        \n",
    "\n",
    "        # W layers for local connections\n",
    "        self.w0 = nn.Conv1d(self.width, self.width, 1)\n",
    "        self.w1 = nn.Conv1d(self.width, self.width, 1)\n",
    "        self.w2 = nn.Conv1d(self.width, self.width, 1)\n",
    "        self.w3 = nn.Conv1d(self.width, self.width, 1)\n",
    "        self.w4 = nn.Conv1d(self.width, self.width, 1)\n",
    "        self.w5 = nn.Conv1d(self.width, self.width, 1)\n",
    "        self.w6 = nn.Conv1d(self.width, self.width, 1)\n",
    "        self.w7 = nn.Conv1d(self.width, self.width, 1)\n",
    "        self.w8 = nn.Conv1d(self.width, self.width, 1)\n",
    "\n",
    "        \n",
    "        \n",
    "        # Projection layers\n",
    "        self.fc1 = nn.Linear(self.width , 256)\n",
    "        self.fc2 = nn.Linear(256, 1)\n",
    "        self.conv_RD = nn.Conv1d(in_channels=self.state_size, out_channels=1, kernel_size=1)  \n",
    "\n",
    "\n",
    "    def process_tensor(self, tensor):\n",
    "        tensor = self.fc0(tensor)\n",
    "        tensor = tensor.permute(0, 2, 1)\n",
    "        tensor = F.pad(tensor, [0, self.padding])\n",
    "\n",
    "        for conv, w in zip([self.conv0, self.conv1, self.conv2, self.conv3],\n",
    "                               [self.w0, self.w1, self.w2, self.w3]):\n",
    "            t1 = conv(tensor)\n",
    "            t2 = w(tensor)\n",
    "            tensor = (t1 + t2)\n",
    "            tensor = F.gelu(tensor)\n",
    "        tensor = tensor[..., :-self.padding]\n",
    "        tensor = tensor.permute(0, 2, 1)\n",
    "        \n",
    "        tensor = self.fc1(tensor)\n",
    "        tensor = F.gelu(tensor)\n",
    "        tensor = self.fc2(tensor)\n",
    "        return tensor\n",
    "\n",
    "    def forward(self, u):\n",
    "        u = u.permute(1, 0, 2)\n",
    "        # u: [nb, T_in, state_size]\n",
    "        # P: [nbatch, T_in+T_out, forcing_size]\n",
    "        # t: [nbatch, T_out]\n",
    "        # parameters: [nbatch, parameters_size]\n",
    "\n",
    "\n",
    "        nbatch, nx = u.shape[0], self.state_size\n",
    "        output = u.unsqueeze(1).repeat(1, self.T_out, 1, 1)\n",
    "        tensor_permuted = output.permute(0, 3, 1, 2)  # Now shape is [nbatch, nx, T_out, T_in]\n",
    "        tensor_reshaped = tensor_permuted.reshape(nbatch, nx, self.T_out * self.T_in)  # Intermediate reshape\n",
    "        tensor_final = tensor_reshaped.permute(0, 2, 1).reshape(nbatch, nx * self.T_out, self.T_in)\n",
    "        combined = self.process_tensor(tensor_final)\n",
    "        combined = combined.view(nbatch, self.T_out, nx) # shape: [nb, nt, nx]\n",
    "        combined = combined.view(nbatch * self.T_in, self.state_size, 1)\n",
    "        combined = self.conv_RD(combined)\n",
    "        combined = combined.view(nbatch, self.T_in, 1)\n",
    "        return combined.permute(1, 0, 2)\n"
   ]
  },
  {
   "cell_type": "code",
   "execution_count": 6,
   "metadata": {},
   "outputs": [],
   "source": [
    "model = FNO1d(modes=60, width=150, T_in=RHO, T_out=RHO, state_size=19).to(device)"
   ]
  },
  {
   "cell_type": "code",
   "execution_count": 9,
   "metadata": {},
   "outputs": [
    {
     "data": {
      "text/plain": [
       "'FNO1d'"
      ]
     },
     "execution_count": 9,
     "metadata": {},
     "output_type": "execute_result"
    }
   ],
   "source": [
    "model.name"
   ]
  },
  {
   "cell_type": "markdown",
   "metadata": {
    "id": "GolWc3zhsgfP"
   },
   "source": [
    "### Train Model"
   ]
  },
  {
   "cell_type": "code",
   "execution_count": 10,
   "metadata": {
    "colab": {
     "base_uri": "https://localhost:8080/"
    },
    "id": "WWS7Qg3JEqd0",
    "outputId": "2bb3839d-195c-4beb-8b5c-89a3746ea925"
   },
   "outputs": [
    {
     "data": {
      "image/png": "[encoded data removed]",
      "text/plain": [
       "<Figure size 640x480 with 1 Axes>"
      ]
     },
     "metadata": {},
     "output_type": "display_data"
    },
    {
     "name": "stderr",
     "output_type": "stream",
     "text": [
      "Training FNO1d: 100%|██████████| 100/100 [16:58<00:00, 10.18s/it, loss=0.0974]\n"
     ]
    }
   ],
   "source": [
    "# training the model\n",
    "last_model = trainModel(\n",
    "    model,\n",
    "    x_train,\n",
    "    y_train,\n",
    "    c_train,\n",
    "    loss_fn,\n",
    "    nEpoch=EPOCH,\n",
    "    miniBatch=[BATCH_SIZE, RHO],\n",
    "    saveEpoch=100,\n",
    "    saveFolder=output_s,\n",
    "    bufftime=0\n",
    ")\n",
    "val_epoch = EPOCH # Select the epoch for testing\n"
   ]
  },
  {
   "cell_type": "markdown",
   "metadata": {
    "id": "D4ZLbL5esk6k"
   },
   "source": [
    "### Save and Test Model"
   ]
  },
  {
   "cell_type": "code",
   "execution_count": null,
   "metadata": {
    "colab": {
     "base_uri": "https://localhost:8080/"
    },
    "id": "JvCJ848HW3Xw",
    "outputId": "e4f073ca-6889-48e2-c1ce-413c1b3af4d0"
   },
   "outputs": [],
   "source": [
    "# load the model\n",
    "test_model = loadModel(output_s, epoch=val_epoch)\n",
    "\n",
    "# set the path to save result\n",
    "save_csv = os.path.join(output_s, \"predict.csv\")\n",
    "\n",
    "# validation\n",
    "pred_val = testModel(test_model, x_val, c_val, batchSize=len(x_train), filePathLst=[save_csv],)\n",
    "\n",
    "# select the metrics\n",
    "metrics_list = [\"Bias\", \"RMSE\", \"ubRMSE\", \"Corr\"]\n",
    "pred_val = pred_val.numpy()\n",
    "# denormalization\n",
    "pred_val = trans_norm(pred_val, csv_path_s, var_s=target[0], from_raw=False)\n",
    "y_val = trans_norm(y_val, csv_path_s, var_s=target[0], from_raw=False)\n",
    "pred_val, y_val = np.squeeze(pred_val), np.squeeze(y_val)\n",
    "metrics_dict = cal_metric(pred_val, y_val)  # calculate the metrics\n",
    "metrics = [\"Median {}: {:.4f}\".format(x, np.nanmedian(metrics_dict[x])) for x in metrics_list]\n",
    "print(\"Epoch {}: {}\".format(val_epoch, metrics))"
   ]
  },
  {
   "cell_type": "markdown",
   "metadata": {
    "id": "ZATAjuXr5idn"
   },
   "source": [
    "When we ran this code with the default data, our results for epoch 100 were\n",
    "*   Median Bias: 0.0046\n",
    "*   Median root-mean-square error (RMSE): 0.0316\n",
    "*   Median unbiased RMSE (ubRMSE): 0.0307\n",
    "*   Median Correlation: 0.8409\n",
    "\n",
    "Your results with our default settings should be fairly close to these, but won't be exactly the same."
   ]
  },
  {
   "cell_type": "markdown",
   "metadata": {
    "id": "YwYObhiesrzV"
   },
   "source": [
    "### Plot Results"
   ]
  },
  {
   "cell_type": "code",
   "execution_count": null,
   "metadata": {
    "colab": {
     "base_uri": "https://localhost:8080/",
     "height": 579
    },
    "id": "gCottJqZ5f_v",
    "outputId": "43816845-1280-42d3-ee87-5cc0e2245eb7"
   },
   "outputs": [],
   "source": [
    "import matplotlib.pyplot as plt\n",
    "\n",
    "# Obtaining list of dates and data for one basin to plot\n",
    "plot_date_list = pd.date_range(val_date_list[0], val_date_list[1])\n",
    "plot_pred_val = pred_val[1,:] # 0 is the index number of the desired basin\n",
    "plot_y_val = y_val[1,:] # 0 is the index number of the desired basin\n",
    "\n",
    "# Defining plot data and characteristics\n",
    "plt.figure(figsize=(10, 6))\n",
    "plt.plot(plot_date_list[0:200], plot_pred_val[0:200], label='Predicted Values') # only plot first 200 days\n",
    "plt.plot(plot_date_list[0:200], plot_y_val[0:200], 'r*', label='Actual Values') # only plot first 200 days\n",
    "plt.xlabel('Time')\n",
    "plt.ylabel('Values')\n",
    "plt.title('Predicted vs Actual Values Over Time')\n",
    "plt.legend()\n",
    "plt.grid(True)\n",
    "plt.xticks(rotation = 15)\n",
    "plt.show()"
   ]
  },
  {
   "cell_type": "code",
   "execution_count": null,
   "metadata": {
    "colab": {
     "base_uri": "https://localhost:8080/",
     "height": 595
    },
    "id": "6dfI5b3kV9A8",
    "outputId": "30ad7eee-b606-4c14-9887-b7cb8bec429f"
   },
   "outputs": [],
   "source": [
    "statDictLst = [metrics_dict]\n",
    "\n",
    "dataBox = list()\n",
    "for i in range(len(metrics_list)):\n",
    "    statStr = metrics_list[i]\n",
    "    temp = list()\n",
    "    for k in range(len(statDictLst)):\n",
    "        data = statDictLst[k][statStr]\n",
    "        data = data[~np.isnan(data)]\n",
    "        temp.append(data)\n",
    "    dataBox.append(temp)\n",
    "\n",
    "# Defining list of metrics to plot\n",
    "metrics_list_plot = [\"Bias\", \"RMSE\", \"ubRMSE\", \"R2\"]\n",
    "metrics_plot = [metrics_dict[key] for key in metrics_list_plot]\n",
    "\n",
    "percent=10\n",
    "left_p10 = np.nanpercentile(data, percent, interpolation=\"nearest\")\n",
    "left_p90 = np.nanpercentile(data, 100 - percent, interpolation=\"nearest\")\n",
    "#data_80p = data[(data >= left_p10) & (data <= left_p90)]\n",
    "\n",
    "# Creating subplots with different axes for each boxplot\n",
    "fig, axes = plt.subplots(nrows=1, ncols=len(metrics_list_plot))\n",
    "\n",
    "# Plotting boxplots for each dataset on different axes\n",
    "\n",
    "for x in range(len(metrics_list)):\n",
    "  axes[x].boxplot(metrics_plot[x], showfliers=False)\n",
    "  axes[x].set_title(metrics_list_plot[x])\n",
    "  axes[x].get_xaxis().set_visible(False)\n",
    "\n",
    "plt.tight_layout()\n",
    "plt.show()"
   ]
  }
 ],
 "metadata": {
  "accelerator": "GPU",
  "colab": {
   "gpuType": "T4",
   "provenance": []
  },
  "kernelspec": {
   "display_name": "fno",
   "language": "python",
   "name": "fno"
  },
  "language_info": {
   "codemirror_mode": {
    "name": "ipython",
    "version": 3
   },
   "file_extension": ".py",
   "mimetype": "text/x-python",
   "name": "python",
   "nbconvert_exporter": "python",
   "pygments_lexer": "ipython3",
   "version": "3.12.3"
  }
 },
 "nbformat": 4,
 "nbformat_minor": 4
}
